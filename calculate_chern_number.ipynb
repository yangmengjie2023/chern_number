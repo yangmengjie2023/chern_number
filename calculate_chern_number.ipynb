{
 "cells": [
  {
   "cell_type": "markdown",
   "metadata": {},
   "source": [
    "Chern insulator is characterized by Chern number, which is defined as\n",
    "\\begin{equation}\n",
    "\\begin{aligned}\n",
    "C & =\\sum_n^{o c c .} \\frac{1}{2 \\pi} \\int_{\\mathrm{BZ}} d k_x d k_y F_n=0, \\pm 1, \\pm 2, \\pm 3, \\cdots \\\\\n",
    "F_n & =\\left(\\nabla \\times \\mathbf{A}_n\\right)_z, \\mathbf{A}_n=i\\left\\langle u_{n \\mathbf{k}}\\right| \\frac{\\partial}{\\partial \\mathbf{k}}\\left|u_{n \\mathbf{k}}\\right\\rangle\n",
    "\\end{aligned}\n",
    "\\end{equation}\n",
    "\n",
    "$C=0$ corresponds to a trivial state, while $C=\\pm 1, \\pm2, ...$ correspond to nontrivial state. "
   ]
  },
  {
   "cell_type": "markdown",
   "metadata": {},
   "source": [
    "The Fukui-Hatsugai method is a numerical approach to compute the Chern number on a discrete momentum space (Brillouin zone) grid. It is particularly useful in tight-binding models. The method works by defining a lattice discretization of the Berry curvature and summing over a discrete Brillouin zone."
   ]
  },
  {
   "cell_type": "code",
   "execution_count": 2,
   "metadata": {},
   "outputs": [
    {
     "name": "stdout",
     "output_type": "stream",
     "text": [
      "Computed Chern number = -1.0000\n"
     ]
    }
   ],
   "source": [
    "import numpy as np\n",
    "import cmath\n",
    "\n",
    "def QWZ_hamiltonian(kx, ky, t=1, m=-1):\n",
    "    \"\"\"\n",
    "    QWZ model Hamiltonian (2 x 2).\n",
    "    kx, ky: momentum components\n",
    "    t: hopping amplitude\n",
    "    m: mass term\n",
    "    \"\"\"\n",
    "    sigma_x = np.array([[0, 1], \n",
    "                        [1, 0]], dtype=complex)\n",
    "    sigma_y = np.array([[0, -1j], \n",
    "                        [1j,  0]], dtype=complex)\n",
    "    sigma_z = np.array([[1,  0], \n",
    "                        [0, -1]], dtype=complex)\n",
    "    \n",
    "    # 对应系数\n",
    "    Hx = t * np.sin(kx)           # 系数乘 sigma_x\n",
    "    Hy = t * np.sin(ky)           # 系数乘 sigma_y\n",
    "    Hz = m + t * np.cos(kx) + t * np.cos(ky)  # 系数乘 sigma_z\n",
    "\n",
    "    # 构造 2x2 哈密顿量\n",
    "    H = Hx * sigma_x + Hy * sigma_y + Hz * sigma_z\n",
    "    return H\n",
    "\n",
    "\n",
    "def fukui_hatsugai_chern(hamiltonian, Nk=20, band_index=0):\n",
    "    \"\"\"\n",
    "    Compute the Chern number for a given band using the Fukui-Hatsugai method.\n",
    "    Parameters:\n",
    "        hamiltonian(kx, ky): returns an (n x n) Hermitian matrix\n",
    "        Nk: number of k-points in each direction\n",
    "        band_index: which band (0-based) to compute the Chern number for\n",
    "    Returns:\n",
    "        Chern number (float)\n",
    "    \"\"\"\n",
    "    # Discretize the Brillouin zone\n",
    "    dtheta = 2.0 * np.pi / Nk\n",
    "    total_flux = 0.0\n",
    "\n",
    "    for i in range(Nk):\n",
    "        for j in range(Nk):\n",
    "            # Define the four corners of the plaquette\n",
    "            kx = i * dtheta\n",
    "            ky = j * dtheta\n",
    "\n",
    "            # Overlaps U12, U23, U34, U41\n",
    "            # We'll define a helper function to get the normalized eigenvector\n",
    "            # of the chosen band at (kx, ky).\n",
    "            def eigvec(kx_, ky_):\n",
    "                H = hamiltonian(kx_, ky_)\n",
    "                vals, vecs = np.linalg.eig(H)\n",
    "                # Sort eigenvalues, pick the eigenvector for band_index\n",
    "                idx = np.argsort(vals)\n",
    "                return vecs[:, idx[band_index]]\n",
    "\n",
    "            u1 = eigvec(kx, ky)\n",
    "            u2 = eigvec(kx + dtheta, ky)\n",
    "            u3 = eigvec(kx + dtheta, ky + dtheta)\n",
    "            u4 = eigvec(kx, ky + dtheta)\n",
    "\n",
    "            # Compute link variables as determinants or inner products\n",
    "            # For a single band, the link variable is just the inner product\n",
    "            U12 = np.vdot(u1, u2)  # k -> k + d(kx)\n",
    "            U23 = np.vdot(u2, u3)  # k + d(kx) -> k + d(kx) + d(ky)\n",
    "            U34 = np.vdot(u3, u4)  # k + d(ky) -> k + d(kx) + d(ky)\n",
    "            U41 = np.vdot(u4, u1)  # k + d(ky) -> k\n",
    "\n",
    "            # Berry curvature on this plaquette\n",
    "            # F = Im[ log(U12 * U23 * U34 * U41 ) ]\n",
    "            # Note: Use cmath.log to handle complex logs\n",
    "            prod = U12 * U23 * U34 * U41\n",
    "            flux = np.angle(prod)  # same as Im(log(prod))\n",
    "\n",
    "            total_flux += flux\n",
    "\n",
    "    # Sum of flux over all plaquettes, divided by 2*pi\n",
    "    chern_number = total_flux / (2.0 * np.pi)\n",
    "    return chern_number\n",
    "\n",
    "if __name__ == \"__main__\":\n",
    "    # Example usage: QWZ model\n",
    "    Nk = 100  # number of points in each direction\n",
    "    C = fukui_hatsugai_chern(QWZ_hamiltonian, Nk=Nk, band_index=0)\n",
    "    print(f\"Computed Chern number = {C:.4f}\")\n"
   ]
  },
  {
   "cell_type": "code",
   "execution_count": null,
   "metadata": {},
   "outputs": [],
   "source": []
  }
 ],
 "metadata": {
  "kernelspec": {
   "display_name": "Python 3",
   "language": "python",
   "name": "python3"
  },
  "language_info": {
   "codemirror_mode": {
    "name": "ipython",
    "version": 3
   },
   "file_extension": ".py",
   "mimetype": "text/x-python",
   "name": "python",
   "nbconvert_exporter": "python",
   "pygments_lexer": "ipython3",
   "version": "3.12.1"
  }
 },
 "nbformat": 4,
 "nbformat_minor": 2
}
